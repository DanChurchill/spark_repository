{
 "cells": [
  {
   "cell_type": "code",
   "execution_count": 1,
   "id": "23716393",
   "metadata": {},
   "outputs": [
    {
     "name": "stderr",
     "output_type": "stream",
     "text": [
      "Setting default log level to \"WARN\".\n",
      "To adjust logging level use sc.setLogLevel(newLevel). For SparkR, use setLogLevel(newLevel).\n"
     ]
    },
    {
     "name": "stdout",
     "output_type": "stream",
     "text": [
      "22/10/21 09:39:26 WARN NativeCodeLoader: Unable to load native-hadoop library for your platform... using builtin-java classes where applicable\n",
      "22/10/21 09:39:27 WARN Utils: Service 'SparkUI' could not bind on port 4040. Attempting port 4041.\n",
      "22/10/21 09:39:27 WARN Utils: Service 'SparkUI' could not bind on port 4041. Attempting port 4042.\n"
     ]
    }
   ],
   "source": [
    "import pyspark\n",
    "import pandas as pd\n",
    "import numpy as np\n",
    "import pyspark.sql.functions as F\n",
    "\n",
    "spark = pyspark.sql.SparkSession.builder.getOrCreate()"
   ]
  },
  {
   "cell_type": "markdown",
   "id": "cf583fa6",
   "metadata": {},
   "source": [
    "# Create a spark data frame that contains your favorite programming languages.\n",
    "\n",
    "    The name of the column should be language\n",
    "    View the schema of the dataframe\n",
    "    Output the shape of the dataframe\n",
    "    Show the first 5 records in the dataframe"
   ]
  },
  {
   "cell_type": "code",
   "execution_count": 2,
   "id": "2dc3d9c9",
   "metadata": {},
   "outputs": [],
   "source": [
    "from pyspark.sql.functions import col, expr\n"
   ]
  },
  {
   "cell_type": "code",
   "execution_count": 3,
   "id": "5aca0170",
   "metadata": {},
   "outputs": [],
   "source": [
    "language_list = ['python', 'java', 'C+', 'unix', 'linux', 'something_else']"
   ]
  },
  {
   "cell_type": "code",
   "execution_count": 4,
   "id": "845250b8",
   "metadata": {},
   "outputs": [],
   "source": [
    "lang_df = pd.DataFrame(language_list, columns=['language'])"
   ]
  },
  {
   "cell_type": "code",
   "execution_count": 5,
   "id": "9a9cffa6",
   "metadata": {},
   "outputs": [],
   "source": [
    "df = spark.createDataFrame(lang_df)"
   ]
  },
  {
   "cell_type": "code",
   "execution_count": 6,
   "id": "144541da",
   "metadata": {},
   "outputs": [
    {
     "name": "stdout",
     "output_type": "stream",
     "text": [
      "root\n",
      " |-- language: string (nullable = true)\n",
      "\n"
     ]
    }
   ],
   "source": [
    "df.printSchema()\n"
   ]
  },
  {
   "cell_type": "code",
   "execution_count": 7,
   "id": "47c5d876",
   "metadata": {},
   "outputs": [
    {
     "name": "stderr",
     "output_type": "stream",
     "text": [
      "[Stage 0:>                                                        (0 + 10) / 10]\r"
     ]
    },
    {
     "name": "stdout",
     "output_type": "stream",
     "text": [
      "6 rows 1 columns\n"
     ]
    },
    {
     "name": "stderr",
     "output_type": "stream",
     "text": [
      "\r",
      "                                                                                \r"
     ]
    }
   ],
   "source": [
    "print(df.count(), \"rows\", len(df.columns), \"columns\")\n"
   ]
  },
  {
   "cell_type": "code",
   "execution_count": 8,
   "id": "1f09c190",
   "metadata": {},
   "outputs": [
    {
     "name": "stdout",
     "output_type": "stream",
     "text": [
      "+--------+\n",
      "|language|\n",
      "+--------+\n",
      "|  python|\n",
      "|    java|\n",
      "|      C+|\n",
      "|    unix|\n",
      "|   linux|\n",
      "+--------+\n",
      "only showing top 5 rows\n",
      "\n"
     ]
    }
   ],
   "source": [
    "df.show(5)"
   ]
  },
  {
   "cell_type": "markdown",
   "id": "f52e93a0",
   "metadata": {},
   "source": [
    "# Load the mpg dataset as a spark dataframe."
   ]
  },
  {
   "cell_type": "code",
   "execution_count": 9,
   "id": "be5784f9",
   "metadata": {},
   "outputs": [],
   "source": [
    "from pydataset import data\n",
    "mpg = spark.createDataFrame(data('mpg'))"
   ]
  },
  {
   "cell_type": "markdown",
   "id": "b26c0ab3",
   "metadata": {},
   "source": [
    "## Create 1 column of output that contains a message like the one below:\n",
    "    The 1999 audi a4 has a 4 cylinder engine.\n",
    "## For each vehicle"
   ]
  },
  {
   "cell_type": "code",
   "execution_count": 10,
   "id": "b5ccf817",
   "metadata": {},
   "outputs": [
    {
     "name": "stdout",
     "output_type": "stream",
     "text": [
      "+------------+-----+-----+----+---+--------+---+---+---+---+-------+\n",
      "|manufacturer|model|displ|year|cyl|   trans|drv|cty|hwy| fl|  class|\n",
      "+------------+-----+-----+----+---+--------+---+---+---+---+-------+\n",
      "|        audi|   a4|  1.8|1999|  4|auto(l5)|  f| 18| 29|  p|compact|\n",
      "+------------+-----+-----+----+---+--------+---+---+---+---+-------+\n",
      "only showing top 1 row\n",
      "\n"
     ]
    }
   ],
   "source": [
    "mpg.show(1)"
   ]
  },
  {
   "cell_type": "code",
   "execution_count": 11,
   "id": "0a1a4b91",
   "metadata": {},
   "outputs": [],
   "source": [
    "mpg.createOrReplaceTempView(\"mpg\")"
   ]
  },
  {
   "cell_type": "code",
   "execution_count": 12,
   "id": "58860bd2",
   "metadata": {},
   "outputs": [
    {
     "name": "stdout",
     "output_type": "stream",
     "text": [
      "+-----------------------------------------+\n",
      "|Statement                                |\n",
      "+-----------------------------------------+\n",
      "|The 1999 audi a4 has a 4 cylinder engine.|\n",
      "|The 1999 audi a4 has a 4 cylinder engine.|\n",
      "|The 2008 audi a4 has a 4 cylinder engine.|\n",
      "|The 2008 audi a4 has a 4 cylinder engine.|\n",
      "|The 1999 audi a4 has a 6 cylinder engine.|\n",
      "+-----------------------------------------+\n",
      "only showing top 5 rows\n",
      "\n"
     ]
    }
   ],
   "source": [
    "spark.sql(\"\"\"\n",
    "SELECT CONCAT(\n",
    "        'The ',\n",
    "        year,\n",
    "        ' ',\n",
    "        manufacturer,\n",
    "        ' ',\n",
    "        model,\n",
    "        ' has a ',\n",
    "        cyl,\n",
    "        ' cylinder engine.') as Statement\n",
    "FROM mpg\n",
    "\"\"\"\n",
    ").show(5, truncate=False)"
   ]
  },
  {
   "cell_type": "markdown",
   "id": "46bc2ea1",
   "metadata": {},
   "source": [
    "# Transform the trans column so that it only contains either manual or auto."
   ]
  },
  {
   "cell_type": "code",
   "execution_count": 13,
   "id": "7a0366a0",
   "metadata": {},
   "outputs": [],
   "source": [
    "from pyspark.sql.functions import when"
   ]
  },
  {
   "cell_type": "code",
   "execution_count": 14,
   "id": "5f69604e",
   "metadata": {},
   "outputs": [
    {
     "name": "stdout",
     "output_type": "stream",
     "text": [
      "+----------+------+\n",
      "|     trans| trans|\n",
      "+----------+------+\n",
      "|  auto(l5)|  auto|\n",
      "|manual(m5)|manual|\n",
      "|manual(m6)|manual|\n",
      "|  auto(av)|  auto|\n",
      "|  auto(l5)|  auto|\n",
      "|manual(m5)|manual|\n",
      "|  auto(av)|  auto|\n",
      "|manual(m5)|manual|\n",
      "|  auto(l5)|  auto|\n",
      "|manual(m6)|manual|\n",
      "|  auto(s6)|  auto|\n",
      "|  auto(l5)|  auto|\n",
      "+----------+------+\n",
      "only showing top 12 rows\n",
      "\n"
     ]
    }
   ],
   "source": [
    "mpg.select(mpg.trans, when(mpg.trans.like('%auto%'), \"auto\")\n",
    "          .otherwise('manual').alias('trans')).show(12)"
   ]
  },
  {
   "cell_type": "markdown",
   "id": "9f0ecab7",
   "metadata": {},
   "source": [
    "# Load the tips dataset as a spark dataframe."
   ]
  },
  {
   "cell_type": "code",
   "execution_count": 15,
   "id": "e9efcdbe",
   "metadata": {},
   "outputs": [],
   "source": [
    "tips = spark.createDataFrame(data('tips'))"
   ]
  },
  {
   "cell_type": "code",
   "execution_count": 16,
   "id": "46b33346",
   "metadata": {},
   "outputs": [
    {
     "name": "stdout",
     "output_type": "stream",
     "text": [
      "+----------+----+------+------+---+------+----+\n",
      "|total_bill| tip|   sex|smoker|day|  time|size|\n",
      "+----------+----+------+------+---+------+----+\n",
      "|     16.99|1.01|Female|    No|Sun|Dinner|   2|\n",
      "|     10.34|1.66|  Male|    No|Sun|Dinner|   3|\n",
      "|     21.01| 3.5|  Male|    No|Sun|Dinner|   3|\n",
      "|     23.68|3.31|  Male|    No|Sun|Dinner|   2|\n",
      "|     24.59|3.61|Female|    No|Sun|Dinner|   4|\n",
      "+----------+----+------+------+---+------+----+\n",
      "only showing top 5 rows\n",
      "\n"
     ]
    }
   ],
   "source": [
    "tips.show(5)"
   ]
  },
  {
   "cell_type": "markdown",
   "id": "f4ffdc05",
   "metadata": {},
   "source": [
    "# What percentage of observations are smokers?\n"
   ]
  },
  {
   "cell_type": "code",
   "execution_count": 17,
   "id": "b91cbefb",
   "metadata": {},
   "outputs": [],
   "source": [
    "from pyspark.sql.functions import concat, sum, avg, min, max, count, mean\n"
   ]
  },
  {
   "cell_type": "code",
   "execution_count": 34,
   "id": "8ee7bfdd",
   "metadata": {},
   "outputs": [
    {
     "name": "stdout",
     "output_type": "stream",
     "text": [
      "+------------------+\n",
      "|      % of smokers|\n",
      "+------------------+\n",
      "|34.857142857142854|\n",
      "+------------------+\n",
      "\n"
     ]
    }
   ],
   "source": [
    "tips.select((count(tips.smoker == 'Yes') / (len(tips.columns))).alias('% of smokers')).show()"
   ]
  },
  {
   "cell_type": "code",
   "execution_count": null,
   "id": "756a91f7",
   "metadata": {},
   "outputs": [],
   "source": []
  },
  {
   "cell_type": "code",
   "execution_count": null,
   "id": "0f2990b3",
   "metadata": {},
   "outputs": [],
   "source": []
  },
  {
   "cell_type": "markdown",
   "id": "055aa28a",
   "metadata": {},
   "source": [
    "# Create a column that contains the tip percentage"
   ]
  },
  {
   "cell_type": "code",
   "execution_count": 19,
   "id": "6622c5d8",
   "metadata": {},
   "outputs": [
    {
     "name": "stdout",
     "output_type": "stream",
     "text": [
      "+----------+----+-------------------+\n",
      "|total_bill| tip|     tip_percentage|\n",
      "+----------+----+-------------------+\n",
      "|     16.99|1.01|0.05944673337257211|\n",
      "|     10.34|1.66|0.16054158607350097|\n",
      "|     21.01| 3.5|0.16658733936220846|\n",
      "|     23.68|3.31| 0.1397804054054054|\n",
      "|     24.59|3.61|0.14680764538430255|\n",
      "|     25.29|4.71|0.18623962040332148|\n",
      "|      8.77| 2.0|0.22805017103762829|\n",
      "|     26.88|3.12|0.11607142857142858|\n",
      "|     15.04|1.96|0.13031914893617022|\n",
      "|     14.78|3.23| 0.2185385656292287|\n",
      "|     10.27|1.71| 0.1665043816942551|\n",
      "|     35.26| 5.0|0.14180374361883155|\n",
      "|     15.42|1.57|0.10181582360570687|\n",
      "|     18.43| 3.0|0.16277807921866522|\n",
      "|     14.83|3.02|0.20364126770060686|\n",
      "|     21.58|3.92|0.18164967562557924|\n",
      "|     10.33|1.67| 0.1616650532429816|\n",
      "|     16.29|3.71|0.22774708410067526|\n",
      "|     16.97| 3.5|0.20624631703005306|\n",
      "|     20.65|3.35|0.16222760290556903|\n",
      "+----------+----+-------------------+\n",
      "only showing top 20 rows\n",
      "\n"
     ]
    }
   ],
   "source": [
    "tips.select(tips.total_bill, tips.tip, (tips.tip / tips.total_bill).alias('tip_percentage')).show()"
   ]
  },
  {
   "cell_type": "markdown",
   "id": "012dc61f",
   "metadata": {},
   "source": [
    "# Calculate the average tip percentage for each combination of sex and smoker.\n"
   ]
  },
  {
   "cell_type": "code",
   "execution_count": 20,
   "id": "0fb7a65d",
   "metadata": {},
   "outputs": [
    {
     "name": "stderr",
     "output_type": "stream",
     "text": [
      "\r",
      "[Stage 14:>                                                       (0 + 10) / 10]\r"
     ]
    },
    {
     "name": "stdout",
     "output_type": "stream",
     "text": [
      "+------+------+----------------------+\n",
      "|   sex|smoker|average_tip_percentage|\n",
      "+------+------+----------------------+\n",
      "|Female|  null|   0.16649073632892478|\n",
      "|  Male|    No|    0.1606687151291298|\n",
      "|  null|  null|   0.16080258172250475|\n",
      "|Female|    No|   0.15692097076918363|\n",
      "|  Male|  null|   0.15765054700429745|\n",
      "|  Male|   Yes|    0.1527711752024851|\n",
      "|Female|   Yes|   0.18215035269941032|\n",
      "+------+------+----------------------+\n",
      "\n"
     ]
    },
    {
     "name": "stderr",
     "output_type": "stream",
     "text": [
      "\r",
      "                                                                                \r"
     ]
    }
   ],
   "source": [
    "tips.rollup('sex', 'smoker').agg(mean((tips.tip / tips.total_bill)).alias('average_tip_percentage')).show()"
   ]
  },
  {
   "cell_type": "markdown",
   "id": "bf3f3617",
   "metadata": {},
   "source": [
    "# Use the seattle weather dataset referenced in the lesson to answer the questions below."
   ]
  },
  {
   "cell_type": "code",
   "execution_count": 21,
   "id": "48d20fae",
   "metadata": {},
   "outputs": [],
   "source": [
    "from vega_datasets import data\n",
    "weather = data.seattle_weather().assign(date=lambda df: df.date.astype(str))\n",
    "weather = spark.createDataFrame(weather)\n"
   ]
  },
  {
   "cell_type": "code",
   "execution_count": 22,
   "id": "672957e5",
   "metadata": {},
   "outputs": [
    {
     "name": "stdout",
     "output_type": "stream",
     "text": [
      "+----------+-------------+--------+--------+----+-------+\n",
      "|      date|precipitation|temp_max|temp_min|wind|weather|\n",
      "+----------+-------------+--------+--------+----+-------+\n",
      "|2012-01-01|          0.0|    12.8|     5.0| 4.7|drizzle|\n",
      "+----------+-------------+--------+--------+----+-------+\n",
      "only showing top 1 row\n",
      "\n"
     ]
    }
   ],
   "source": [
    "weather.show(1)"
   ]
  },
  {
   "cell_type": "markdown",
   "id": "69238c48",
   "metadata": {},
   "source": [
    "# Convert the temperatures to fahrenheit."
   ]
  },
  {
   "cell_type": "code",
   "execution_count": 23,
   "id": "c4dcd2f6",
   "metadata": {},
   "outputs": [
    {
     "name": "stdout",
     "output_type": "stream",
     "text": [
      "+----------+----------+\n",
      "|temp_max_f|temp_min_f|\n",
      "+----------+----------+\n",
      "|     55.04|      41.0|\n",
      "|     51.08|     37.04|\n",
      "|     53.06|     44.96|\n",
      "|     53.96|     42.08|\n",
      "|     48.02|     37.04|\n",
      "+----------+----------+\n",
      "only showing top 5 rows\n",
      "\n"
     ]
    }
   ],
   "source": [
    "weather.select((weather.temp_max * 9/5 + 32).alias('temp_max_f'), \n",
    "               (weather.temp_min * 9/5 + 32).alias('temp_min_f')).show(5)"
   ]
  },
  {
   "cell_type": "markdown",
   "id": "30a25efe",
   "metadata": {},
   "source": [
    "# Which month has the most rain, on average?"
   ]
  },
  {
   "cell_type": "code",
   "execution_count": 24,
   "id": "0930123a",
   "metadata": {},
   "outputs": [],
   "source": [
    "from pyspark.sql.functions import month, year, quarter\n",
    "from pyspark.sql.functions import asc, desc\n"
   ]
  },
  {
   "cell_type": "code",
   "execution_count": 39,
   "id": "62a68e76",
   "metadata": {},
   "outputs": [
    {
     "name": "stderr",
     "output_type": "stream",
     "text": [
      "\r",
      "[Stage 49:>                                                       (0 + 10) / 10]\r"
     ]
    },
    {
     "name": "stdout",
     "output_type": "stream",
     "text": [
      "+-----+-------------------+\n",
      "|month|      mean_rainfall|\n",
      "+-----+-------------------+\n",
      "|   11|  5.354166666666667|\n",
      "|   12|  5.021774193548388|\n",
      "|    3|  4.888709677419355|\n",
      "|   10|  4.059677419354839|\n",
      "|    1| 3.7580645161290316|\n",
      "|    2|  3.734513274336283|\n",
      "|    4|  3.128333333333333|\n",
      "|    9| 1.9624999999999997|\n",
      "|    5| 1.6733870967741935|\n",
      "|    8| 1.3201612903225806|\n",
      "|    6| 1.1075000000000002|\n",
      "|    7|0.38870967741935486|\n",
      "+-----+-------------------+\n",
      "\n"
     ]
    },
    {
     "name": "stderr",
     "output_type": "stream",
     "text": [
      "\r",
      "                                                                                \r"
     ]
    }
   ],
   "source": [
    "(\n",
    "    weather.withColumn(\"month\", month(\"date\"))\n",
    "    .groupBy(\"month\")\n",
    "    .agg(mean(\"precipitation\").alias(\"mean_rainfall\"))\n",
    "    .sort(desc(\"mean_rainfall\"))\n",
    "    .show()\n",
    ")"
   ]
  },
  {
   "cell_type": "markdown",
   "id": "daa8e49b",
   "metadata": {},
   "source": [
    "# Which year was the windiest?"
   ]
  },
  {
   "cell_type": "code",
   "execution_count": 26,
   "id": "49128360",
   "metadata": {},
   "outputs": [
    {
     "name": "stdout",
     "output_type": "stream",
     "text": [
      "+----+------------------+\n",
      "|year|       annual_wind|\n",
      "+----+------------------+\n",
      "|2012| 3.400819672131148|\n",
      "|2014|3.3876712328767122|\n",
      "|2015|3.1597260273972596|\n",
      "|2013|3.0158904109589044|\n",
      "+----+------------------+\n",
      "\n"
     ]
    }
   ],
   "source": [
    "(\n",
    "    weather.withColumn(\"year\", year(\"date\"))\n",
    "    .groupBy(\"year\")\n",
    "    .agg(mean(\"wind\").alias(\"annual_wind\"))\n",
    "    .sort(desc(\"annual_wind\"))\n",
    "    .show()\n",
    "\n",
    ")"
   ]
  },
  {
   "cell_type": "markdown",
   "id": "1f4efa34",
   "metadata": {},
   "source": [
    "# What is the most frequent type of weather in January?\n"
   ]
  },
  {
   "cell_type": "code",
   "execution_count": 44,
   "id": "0a9460a9",
   "metadata": {},
   "outputs": [
    {
     "name": "stdout",
     "output_type": "stream",
     "text": [
      "+-------+--------------+\n",
      "|weather|count(weather)|\n",
      "+-------+--------------+\n",
      "|drizzle|            10|\n",
      "|   rain|            35|\n",
      "|    sun|            33|\n",
      "|   snow|             8|\n",
      "|    fog|            38|\n",
      "+-------+--------------+\n",
      "\n"
     ]
    }
   ],
   "source": [
    "(\n",
    "    weather.filter(month(\"date\") == 1)\n",
    "    .groupBy(\"weather\")\n",
    "    .agg(count(\"weather\"))\n",
    "    .show()\n",
    ")"
   ]
  },
  {
   "cell_type": "markdown",
   "id": "51038888",
   "metadata": {},
   "source": [
    "# What is the average high and low temperature on sunny days in July in 2013 and 2014?"
   ]
  },
  {
   "cell_type": "code",
   "execution_count": 28,
   "id": "9aaea581",
   "metadata": {},
   "outputs": [
    {
     "name": "stderr",
     "output_type": "stream",
     "text": [
      "\r",
      "[Stage 28:>                                                       (0 + 10) / 10]\r"
     ]
    },
    {
     "name": "stdout",
     "output_type": "stream",
     "text": [
      "+----------+------------------+------------------+\n",
      "|year(date)|     avg(temp_max)|     avg(temp_min)|\n",
      "+----------+------------------+------------------+\n",
      "|      2013|26.585185185185193|13.981481481481483|\n",
      "|      2014|            27.092|14.400000000000002|\n",
      "+----------+------------------+------------------+\n",
      "\n"
     ]
    },
    {
     "name": "stderr",
     "output_type": "stream",
     "text": [
      "\r",
      "                                                                                \r"
     ]
    }
   ],
   "source": [
    "(\n",
    "    weather.filter(month(\"date\") == 7)\n",
    "    .filter((year('date') == 2013) | (year('date') == 2014))\n",
    "    .filter(weather.weather == 'sun')\n",
    "    .groupBy(year('date'))\n",
    "    .agg(mean(\"temp_max\"), mean('temp_min'))\n",
    "    .show()\n",
    ")"
   ]
  },
  {
   "cell_type": "markdown",
   "id": "acf507df",
   "metadata": {},
   "source": [
    "# What percentage of days were rainy in q3 of 2015?\n"
   ]
  },
  {
   "cell_type": "code",
   "execution_count": 29,
   "id": "4ecf14e7",
   "metadata": {},
   "outputs": [
    {
     "name": "stdout",
     "output_type": "stream",
     "text": [
      "+-------------+------------------+\n",
      "|quarter(date)|(avg(rainy) * 100)|\n",
      "+-------------+------------------+\n",
      "|            3|2.1739130434782608|\n",
      "+-------------+------------------+\n",
      "\n"
     ]
    }
   ],
   "source": [
    "\n",
    "\n",
    "(\n",
    "    weather.filter(year(\"date\") == 2015)\n",
    "    .filter(quarter('date') == 3)\n",
    "    .withColumn(\"rainy\", (weather.weather == 'rain').cast(\"int\"))\n",
    "    .groupBy(quarter('date'))\n",
    "    .agg(mean('rainy') * 100)\n",
    "    \n",
    "    .show()\n",
    ")"
   ]
  },
  {
   "cell_type": "markdown",
   "id": "c335750d",
   "metadata": {},
   "source": [
    "# For each year, find what percentage of days it rained (had non-zero precipitation).\n"
   ]
  },
  {
   "cell_type": "code",
   "execution_count": 45,
   "id": "ae62edd5",
   "metadata": {},
   "outputs": [
    {
     "name": "stdout",
     "output_type": "stream",
     "text": [
      "+----------+-----------------------+\n",
      "|year(date)|(avg(precip_day) * 100)|\n",
      "+----------+-----------------------+\n",
      "|      2012|      48.36065573770492|\n",
      "|      2013|      41.64383561643836|\n",
      "|      2014|       41.0958904109589|\n",
      "|      2015|      39.45205479452055|\n",
      "+----------+-----------------------+\n",
      "\n"
     ]
    }
   ],
   "source": [
    "(\n",
    "    weather.withColumn(\"precip_day\", (weather.precipitation != 0).cast(\"int\"))\n",
    "    .groupBy(year('date'))\n",
    "    .agg(mean('precip_day') * 100)\n",
    "    \n",
    "    .show()\n",
    ")"
   ]
  },
  {
   "cell_type": "code",
   "execution_count": null,
   "id": "1f6a026c",
   "metadata": {},
   "outputs": [],
   "source": []
  },
  {
   "cell_type": "code",
   "execution_count": null,
   "id": "06f82099",
   "metadata": {},
   "outputs": [],
   "source": []
  }
 ],
 "metadata": {
  "kernelspec": {
   "display_name": "Python 3 (ipykernel)",
   "language": "python",
   "name": "python3"
  },
  "language_info": {
   "codemirror_mode": {
    "name": "ipython",
    "version": 3
   },
   "file_extension": ".py",
   "mimetype": "text/x-python",
   "name": "python",
   "nbconvert_exporter": "python",
   "pygments_lexer": "ipython3",
   "version": "3.9.12"
  }
 },
 "nbformat": 4,
 "nbformat_minor": 5
}
