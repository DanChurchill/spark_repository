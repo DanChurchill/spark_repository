{
 "cells": [
  {
   "cell_type": "code",
   "execution_count": 3,
   "id": "d125c02a",
   "metadata": {},
   "outputs": [
    {
     "name": "stderr",
     "output_type": "stream",
     "text": [
      "Setting default log level to \"WARN\".\n",
      "To adjust logging level use sc.setLogLevel(newLevel). For SparkR, use setLogLevel(newLevel).\n"
     ]
    },
    {
     "name": "stdout",
     "output_type": "stream",
     "text": [
      "22/10/20 14:15:38 WARN NativeCodeLoader: Unable to load native-hadoop library for your platform... using builtin-java classes where applicable\n",
      "22/10/20 14:15:39 WARN Utils: Service 'SparkUI' could not bind on port 4040. Attempting port 4041.\n"
     ]
    }
   ],
   "source": [
    "import pyspark\n",
    "import pandas as pd\n",
    "import numpy as np\n",
    "import pyspark.sql.functions as F\n",
    "\n",
    "spark = pyspark.sql.SparkSession.builder.getOrCreate()"
   ]
  },
  {
   "cell_type": "markdown",
   "id": "f28f3886",
   "metadata": {},
   "source": [
    "# Create a spark data frame that contains your favorite programming languages.\n",
    "\n",
    "    The name of the column should be language\n",
    "    View the schema of the dataframe\n",
    "    Output the shape of the dataframe\n",
    "    Show the first 5 records in the dataframe"
   ]
  },
  {
   "cell_type": "code",
   "execution_count": 5,
   "id": "3f1e3e4e",
   "metadata": {},
   "outputs": [],
   "source": [
    "from pyspark.sql.functions import col, expr\n"
   ]
  },
  {
   "cell_type": "code",
   "execution_count": 12,
   "id": "62ee84ec",
   "metadata": {},
   "outputs": [],
   "source": [
    "language_list = ['python', 'java', 'C+', 'unix', 'linux', 'something_else']"
   ]
  },
  {
   "cell_type": "code",
   "execution_count": 19,
   "id": "a51e28a8",
   "metadata": {},
   "outputs": [],
   "source": [
    "lang_df = pd.DataFrame(language_list, columns=['language'])"
   ]
  },
  {
   "cell_type": "code",
   "execution_count": 20,
   "id": "cb5457d6",
   "metadata": {},
   "outputs": [],
   "source": [
    "df = spark.createDataFrame(lang_df)"
   ]
  },
  {
   "cell_type": "code",
   "execution_count": 21,
   "id": "67752f2c",
   "metadata": {},
   "outputs": [
    {
     "name": "stdout",
     "output_type": "stream",
     "text": [
      "root\n",
      " |-- language: string (nullable = true)\n",
      "\n"
     ]
    }
   ],
   "source": [
    "df.printSchema()\n"
   ]
  },
  {
   "cell_type": "code",
   "execution_count": 23,
   "id": "2002752f",
   "metadata": {},
   "outputs": [
    {
     "name": "stderr",
     "output_type": "stream",
     "text": [
      "\r",
      "[Stage 0:>                                                        (0 + 10) / 10]\r"
     ]
    },
    {
     "name": "stdout",
     "output_type": "stream",
     "text": [
      "6 rows 1 columns\n"
     ]
    },
    {
     "name": "stderr",
     "output_type": "stream",
     "text": [
      "\r",
      "                                                                                \r"
     ]
    }
   ],
   "source": [
    "print(df.count(), \"rows\", len(df.columns), \"columns\")\n"
   ]
  },
  {
   "cell_type": "code",
   "execution_count": 24,
   "id": "740203de",
   "metadata": {},
   "outputs": [
    {
     "name": "stdout",
     "output_type": "stream",
     "text": [
      "+--------+\n",
      "|language|\n",
      "+--------+\n",
      "|  python|\n",
      "|    java|\n",
      "|      C+|\n",
      "|    unix|\n",
      "|   linux|\n",
      "+--------+\n",
      "only showing top 5 rows\n",
      "\n"
     ]
    }
   ],
   "source": [
    "df.show(5)"
   ]
  },
  {
   "cell_type": "markdown",
   "id": "68cfd53d",
   "metadata": {},
   "source": [
    "# Load the mpg dataset as a spark dataframe."
   ]
  },
  {
   "cell_type": "code",
   "execution_count": 25,
   "id": "ce8d7ec6",
   "metadata": {},
   "outputs": [],
   "source": [
    "from pydataset import data\n",
    "mpg = spark.createDataFrame(data('mpg'))"
   ]
  },
  {
   "cell_type": "markdown",
   "id": "a77436d1",
   "metadata": {},
   "source": [
    "## Create 1 column of output that contains a message like the one below:\n",
    "    The 1999 audi a4 has a 4 cylinder engine.\n",
    "## For each vehicle"
   ]
  },
  {
   "cell_type": "code",
   "execution_count": 26,
   "id": "0606d8d4",
   "metadata": {},
   "outputs": [
    {
     "name": "stdout",
     "output_type": "stream",
     "text": [
      "+------------+-----+-----+----+---+--------+---+---+---+---+-------+\n",
      "|manufacturer|model|displ|year|cyl|   trans|drv|cty|hwy| fl|  class|\n",
      "+------------+-----+-----+----+---+--------+---+---+---+---+-------+\n",
      "|        audi|   a4|  1.8|1999|  4|auto(l5)|  f| 18| 29|  p|compact|\n",
      "+------------+-----+-----+----+---+--------+---+---+---+---+-------+\n",
      "only showing top 1 row\n",
      "\n"
     ]
    }
   ],
   "source": [
    "mpg.show(1)"
   ]
  },
  {
   "cell_type": "code",
   "execution_count": 32,
   "id": "1b7b5f4c",
   "metadata": {},
   "outputs": [],
   "source": [
    "mpg.createOrReplaceTempView(\"mpg\")"
   ]
  },
  {
   "cell_type": "code",
   "execution_count": 41,
   "id": "220ce14f",
   "metadata": {},
   "outputs": [
    {
     "name": "stdout",
     "output_type": "stream",
     "text": [
      "+-----------------------------------------+\n",
      "|Statement                                |\n",
      "+-----------------------------------------+\n",
      "|The 1999 audi a4 has a 4 cylinder engine.|\n",
      "|The 1999 audi a4 has a 4 cylinder engine.|\n",
      "|The 2008 audi a4 has a 4 cylinder engine.|\n",
      "|The 2008 audi a4 has a 4 cylinder engine.|\n",
      "|The 1999 audi a4 has a 6 cylinder engine.|\n",
      "+-----------------------------------------+\n",
      "only showing top 5 rows\n",
      "\n"
     ]
    }
   ],
   "source": [
    "spark.sql(\"\"\"\n",
    "SELECT CONCAT(\n",
    "        'The ',\n",
    "        year,\n",
    "        ' ',\n",
    "        manufacturer,\n",
    "        ' ',\n",
    "        model,\n",
    "        ' has a ',\n",
    "        cyl,\n",
    "        ' cylinder engine.') as Statement\n",
    "FROM mpg\n",
    "\"\"\"\n",
    ").show(5, truncate=False)"
   ]
  },
  {
   "cell_type": "markdown",
   "id": "545a0e09",
   "metadata": {},
   "source": [
    "# Transform the trans column so that it only contains either manual or auto."
   ]
  },
  {
   "cell_type": "code",
   "execution_count": 42,
   "id": "6b7e6b12",
   "metadata": {},
   "outputs": [],
   "source": [
    "from pyspark.sql.functions import when"
   ]
  },
  {
   "cell_type": "code",
   "execution_count": 50,
   "id": "d4affaf4",
   "metadata": {},
   "outputs": [
    {
     "name": "stdout",
     "output_type": "stream",
     "text": [
      "+----------+------+\n",
      "|     trans| trans|\n",
      "+----------+------+\n",
      "|  auto(l5)|  auto|\n",
      "|manual(m5)|manual|\n",
      "|manual(m6)|manual|\n",
      "|  auto(av)|  auto|\n",
      "|  auto(l5)|  auto|\n",
      "|manual(m5)|manual|\n",
      "|  auto(av)|  auto|\n",
      "|manual(m5)|manual|\n",
      "|  auto(l5)|  auto|\n",
      "|manual(m6)|manual|\n",
      "|  auto(s6)|  auto|\n",
      "|  auto(l5)|  auto|\n",
      "+----------+------+\n",
      "only showing top 12 rows\n",
      "\n"
     ]
    }
   ],
   "source": [
    "mpg.select(mpg.trans, when(mpg.trans.like('%auto%'), \"auto\")\n",
    "          .otherwise('manual').alias('trans')).show(12)"
   ]
  },
  {
   "cell_type": "markdown",
   "id": "8b1e1f23",
   "metadata": {},
   "source": [
    "# Load the tips dataset as a spark dataframe."
   ]
  },
  {
   "cell_type": "code",
   "execution_count": 51,
   "id": "313097ca",
   "metadata": {},
   "outputs": [],
   "source": [
    "tips = spark.createDataFrame(data('tips'))"
   ]
  },
  {
   "cell_type": "code",
   "execution_count": 52,
   "id": "ebdfcb8e",
   "metadata": {},
   "outputs": [
    {
     "name": "stdout",
     "output_type": "stream",
     "text": [
      "+----------+----+------+------+---+------+----+\n",
      "|total_bill| tip|   sex|smoker|day|  time|size|\n",
      "+----------+----+------+------+---+------+----+\n",
      "|     16.99|1.01|Female|    No|Sun|Dinner|   2|\n",
      "|     10.34|1.66|  Male|    No|Sun|Dinner|   3|\n",
      "|     21.01| 3.5|  Male|    No|Sun|Dinner|   3|\n",
      "|     23.68|3.31|  Male|    No|Sun|Dinner|   2|\n",
      "|     24.59|3.61|Female|    No|Sun|Dinner|   4|\n",
      "+----------+----+------+------+---+------+----+\n",
      "only showing top 5 rows\n",
      "\n"
     ]
    }
   ],
   "source": [
    "tips.show(5)"
   ]
  },
  {
   "cell_type": "markdown",
   "id": "ed367760",
   "metadata": {},
   "source": [
    "# What percentage of observations are smokers?\n"
   ]
  },
  {
   "cell_type": "code",
   "execution_count": 53,
   "id": "21a5d511",
   "metadata": {},
   "outputs": [],
   "source": [
    "from pyspark.sql.functions import concat, sum, avg, min, max, count, mean\n"
   ]
  },
  {
   "cell_type": "code",
   "execution_count": 61,
   "id": "19f79ea5",
   "metadata": {},
   "outputs": [
    {
     "name": "stdout",
     "output_type": "stream",
     "text": [
      "+------------------+\n",
      "|      % of smokers|\n",
      "+------------------+\n",
      "|34.857142857142854|\n",
      "+------------------+\n",
      "\n"
     ]
    }
   ],
   "source": [
    "tips.select((count(tips.smoker == 'Yes') / (len(tips.columns))).alias('% of smokers')).show()"
   ]
  },
  {
   "cell_type": "markdown",
   "id": "6449cba9",
   "metadata": {},
   "source": [
    "# Create a column that contains the tip percentage"
   ]
  },
  {
   "cell_type": "code",
   "execution_count": 69,
   "id": "a18bafff",
   "metadata": {},
   "outputs": [
    {
     "name": "stdout",
     "output_type": "stream",
     "text": [
      "+----------+----+-------------------+\n",
      "|total_bill| tip|     tip_percentage|\n",
      "+----------+----+-------------------+\n",
      "|     16.99|1.01|0.05944673337257211|\n",
      "|     10.34|1.66|0.16054158607350097|\n",
      "|     21.01| 3.5|0.16658733936220846|\n",
      "|     23.68|3.31| 0.1397804054054054|\n",
      "|     24.59|3.61|0.14680764538430255|\n",
      "|     25.29|4.71|0.18623962040332148|\n",
      "|      8.77| 2.0|0.22805017103762829|\n",
      "|     26.88|3.12|0.11607142857142858|\n",
      "|     15.04|1.96|0.13031914893617022|\n",
      "|     14.78|3.23| 0.2185385656292287|\n",
      "|     10.27|1.71| 0.1665043816942551|\n",
      "|     35.26| 5.0|0.14180374361883155|\n",
      "|     15.42|1.57|0.10181582360570687|\n",
      "|     18.43| 3.0|0.16277807921866522|\n",
      "|     14.83|3.02|0.20364126770060686|\n",
      "|     21.58|3.92|0.18164967562557924|\n",
      "|     10.33|1.67| 0.1616650532429816|\n",
      "|     16.29|3.71|0.22774708410067526|\n",
      "|     16.97| 3.5|0.20624631703005306|\n",
      "|     20.65|3.35|0.16222760290556903|\n",
      "+----------+----+-------------------+\n",
      "only showing top 20 rows\n",
      "\n"
     ]
    }
   ],
   "source": [
    "tips.select(tips.total_bill, tips.tip, (tips.tip / tips.total_bill).alias('tip_percentage')).show()"
   ]
  },
  {
   "cell_type": "markdown",
   "id": "d5e0e7ab",
   "metadata": {},
   "source": [
    "# Calculate the average tip percentage for each combination of sex and smoker.\n"
   ]
  },
  {
   "cell_type": "code",
   "execution_count": 75,
   "id": "e83b3254",
   "metadata": {},
   "outputs": [
    {
     "name": "stdout",
     "output_type": "stream",
     "text": [
      "+------+------+----------------------+\n",
      "|   sex|smoker|average_tip_percentage|\n",
      "+------+------+----------------------+\n",
      "|Female|  null|   0.16649073632892478|\n",
      "|  Male|    No|    0.1606687151291298|\n",
      "|  null|  null|   0.16080258172250475|\n",
      "|Female|    No|   0.15692097076918363|\n",
      "|  Male|  null|   0.15765054700429745|\n",
      "|  Male|   Yes|    0.1527711752024851|\n",
      "|Female|   Yes|   0.18215035269941032|\n",
      "+------+------+----------------------+\n",
      "\n"
     ]
    }
   ],
   "source": [
    "tips.rollup('sex', 'smoker').agg(mean((tips.tip / tips.total_bill)).alias('average_tip_percentage')).show()"
   ]
  },
  {
   "cell_type": "markdown",
   "id": "7123bc49",
   "metadata": {},
   "source": [
    "# Use the seattle weather dataset referenced in the lesson to answer the questions below."
   ]
  },
  {
   "cell_type": "code",
   "execution_count": 80,
   "id": "146b2479",
   "metadata": {},
   "outputs": [],
   "source": [
    "from vega_datasets import data\n",
    "weather = data.seattle_weather().assign(date=lambda df: df.date.astype(str))\n",
    "weather = spark.createDataFrame(weather)\n"
   ]
  },
  {
   "cell_type": "code",
   "execution_count": 81,
   "id": "e123ae77",
   "metadata": {},
   "outputs": [
    {
     "name": "stdout",
     "output_type": "stream",
     "text": [
      "+----------+-------------+--------+--------+----+-------+\n",
      "|      date|precipitation|temp_max|temp_min|wind|weather|\n",
      "+----------+-------------+--------+--------+----+-------+\n",
      "|2012-01-01|          0.0|    12.8|     5.0| 4.7|drizzle|\n",
      "+----------+-------------+--------+--------+----+-------+\n",
      "only showing top 1 row\n",
      "\n"
     ]
    }
   ],
   "source": [
    "weather.show(1)"
   ]
  },
  {
   "cell_type": "markdown",
   "id": "7d2a6484",
   "metadata": {},
   "source": [
    "# Convert the temperatures to fahrenheit."
   ]
  },
  {
   "cell_type": "code",
   "execution_count": 82,
   "id": "376fc284",
   "metadata": {},
   "outputs": [
    {
     "name": "stdout",
     "output_type": "stream",
     "text": [
      "+----------+----------+\n",
      "|temp_max_f|temp_min_f|\n",
      "+----------+----------+\n",
      "|     55.04|      41.0|\n",
      "|     51.08|     37.04|\n",
      "|     53.06|     44.96|\n",
      "|     53.96|     42.08|\n",
      "|     48.02|     37.04|\n",
      "+----------+----------+\n",
      "only showing top 5 rows\n",
      "\n"
     ]
    }
   ],
   "source": [
    "weather.select((weather.temp_max * 9/5 + 32).alias('temp_max_f'), \n",
    "               (weather.temp_min * 9/5 + 32).alias('temp_min_f')).show(5)"
   ]
  },
  {
   "cell_type": "markdown",
   "id": "26d95c13",
   "metadata": {},
   "source": [
    "# Which month has the most rain, on average?"
   ]
  },
  {
   "cell_type": "code",
   "execution_count": 87,
   "id": "58ddef0f",
   "metadata": {},
   "outputs": [],
   "source": [
    "from pyspark.sql.functions import month, year, quarter\n",
    "from pyspark.sql.functions import asc, desc\n"
   ]
  },
  {
   "cell_type": "code",
   "execution_count": 96,
   "id": "63c29c61",
   "metadata": {},
   "outputs": [
    {
     "name": "stdout",
     "output_type": "stream",
     "text": [
      "+-----+-------------------+\n",
      "|month|      mean_rainfall|\n",
      "+-----+-------------------+\n",
      "|   11|  5.354166666666667|\n",
      "|   12|  5.021774193548388|\n",
      "|    3|  4.888709677419355|\n",
      "|   10|  4.059677419354839|\n",
      "|    1| 3.7580645161290316|\n",
      "|    2|  3.734513274336283|\n",
      "|    4|  3.128333333333333|\n",
      "|    9| 1.9624999999999997|\n",
      "|    5| 1.6733870967741935|\n",
      "|    8| 1.3201612903225806|\n",
      "|    6| 1.1075000000000002|\n",
      "|    7|0.38870967741935486|\n",
      "+-----+-------------------+\n",
      "\n"
     ]
    }
   ],
   "source": [
    "(\n",
    "    weather.withColumn(\"month\", month(\"date\"))\n",
    "    .groupBy(\"month\")\n",
    "    .agg(mean(\"precipitation\").alias(\"mean_rainfall\"))\n",
    "    .sort(desc(\"mean_rainfall\"))\n",
    "    .show()\n",
    "\n",
    ")"
   ]
  },
  {
   "cell_type": "markdown",
   "id": "bcda5035",
   "metadata": {},
   "source": [
    "# Which year was the windiest?"
   ]
  },
  {
   "cell_type": "code",
   "execution_count": 98,
   "id": "a7db000b",
   "metadata": {},
   "outputs": [
    {
     "name": "stdout",
     "output_type": "stream",
     "text": [
      "+----+------------------+\n",
      "|year|       annual_wind|\n",
      "+----+------------------+\n",
      "|2012| 3.400819672131148|\n",
      "|2014|3.3876712328767122|\n",
      "|2015|3.1597260273972596|\n",
      "|2013|3.0158904109589044|\n",
      "+----+------------------+\n",
      "\n"
     ]
    }
   ],
   "source": [
    "(\n",
    "    weather.withColumn(\"year\", year(\"date\"))\n",
    "    .groupBy(\"year\")\n",
    "    .agg(mean(\"wind\").alias(\"annual_wind\"))\n",
    "    .sort(desc(\"annual_wind\"))\n",
    "    .show()\n",
    "\n",
    ")"
   ]
  },
  {
   "cell_type": "markdown",
   "id": "082cefa4",
   "metadata": {},
   "source": [
    "# What is the most frequent type of weather in January?\n"
   ]
  },
  {
   "cell_type": "code",
   "execution_count": 107,
   "id": "4fd2e785",
   "metadata": {},
   "outputs": [
    {
     "name": "stdout",
     "output_type": "stream",
     "text": [
      "+-------+--------------+\n",
      "|weather|count(weather)|\n",
      "+-------+--------------+\n",
      "|drizzle|            10|\n",
      "|   rain|            35|\n",
      "|    sun|            33|\n",
      "|   snow|             8|\n",
      "|    fog|            38|\n",
      "+-------+--------------+\n",
      "\n"
     ]
    }
   ],
   "source": [
    "(\n",
    "    weather.filter(month(\"date\") == 1)\n",
    "    .groupBy(\"weather\")\n",
    "    .agg(count(\"weather\"))\n",
    "    .show()\n",
    ")"
   ]
  },
  {
   "cell_type": "markdown",
   "id": "16ce0c03",
   "metadata": {},
   "source": [
    "# What is the average high and low temperature on sunny days in July in 2013 and 2014?"
   ]
  },
  {
   "cell_type": "code",
   "execution_count": 122,
   "id": "e772d77a",
   "metadata": {},
   "outputs": [
    {
     "name": "stderr",
     "output_type": "stream",
     "text": [
      "\r",
      "[Stage 98:>                                                       (0 + 10) / 10]\r"
     ]
    },
    {
     "name": "stdout",
     "output_type": "stream",
     "text": [
      "+----------+------------------+------------------+\n",
      "|year(date)|     avg(temp_max)|     avg(temp_min)|\n",
      "+----------+------------------+------------------+\n",
      "|      2013|26.585185185185193|13.981481481481483|\n",
      "|      2014|            27.092|14.400000000000002|\n",
      "+----------+------------------+------------------+\n",
      "\n"
     ]
    },
    {
     "name": "stderr",
     "output_type": "stream",
     "text": [
      "\r",
      "                                                                                \r"
     ]
    }
   ],
   "source": [
    "(\n",
    "    weather.filter(month(\"date\") == 7)\n",
    "    .filter((year('date') == 2013) | (year('date') == 2014))\n",
    "    .filter(weather.weather == 'sun')\n",
    "    .groupBy(year('date'))\n",
    "    .agg(mean(\"temp_max\"), mean('temp_min'))\n",
    "    .show()\n",
    ")"
   ]
  },
  {
   "cell_type": "markdown",
   "id": "c0c17b74",
   "metadata": {},
   "source": [
    "# What percentage of days were rainy in q3 of 2015?\n"
   ]
  },
  {
   "cell_type": "code",
   "execution_count": 169,
   "id": "aea52ba8",
   "metadata": {},
   "outputs": [
    {
     "name": "stdout",
     "output_type": "stream",
     "text": [
      "+-------------+------------------+\n",
      "|quarter(date)|(avg(rainy) * 100)|\n",
      "+-------------+------------------+\n",
      "|            3|2.1739130434782608|\n",
      "+-------------+------------------+\n",
      "\n"
     ]
    }
   ],
   "source": [
    "\n",
    "\n",
    "(\n",
    "    weather.filter(year(\"date\") == 2015)\n",
    "    .filter(quarter('date') == 3)\n",
    "    .withColumn(\"rainy\", (weather.weather == 'rain').cast(\"int\"))\n",
    "    .groupBy(quarter('date'))\n",
    "    .agg(mean('rainy') * 100)\n",
    "    \n",
    "    .show()\n",
    ")"
   ]
  },
  {
   "cell_type": "markdown",
   "id": "9b456502",
   "metadata": {},
   "source": [
    "# For each year, find what percentage of days it rained (had non-zero precipitation).\n"
   ]
  },
  {
   "cell_type": "code",
   "execution_count": 172,
   "id": "3cb616fe",
   "metadata": {},
   "outputs": [
    {
     "name": "stdout",
     "output_type": "stream",
     "text": [
      "+------------------+\n",
      "|(avg(rainy) * 100)|\n",
      "+------------------+\n",
      "|51.129363449691986|\n",
      "+------------------+\n",
      "\n"
     ]
    }
   ],
   "source": [
    "(\n",
    "    weather.withColumn(\"rainy\", (weather.weather != 'sun').cast(\"int\"))\n",
    "    .agg(mean('rainy') * 100)\n",
    "    \n",
    "    .show()\n",
    ")"
   ]
  },
  {
   "cell_type": "code",
   "execution_count": 171,
   "id": "57992516",
   "metadata": {},
   "outputs": [
    {
     "name": "stdout",
     "output_type": "stream",
     "text": [
      "+----------+-------------+--------+--------+----+-------+\n",
      "|      date|precipitation|temp_max|temp_min|wind|weather|\n",
      "+----------+-------------+--------+--------+----+-------+\n",
      "|2012-01-01|          0.0|    12.8|     5.0| 4.7|drizzle|\n",
      "|2012-01-02|         10.9|    10.6|     2.8| 4.5|   rain|\n",
      "|2012-01-03|          0.8|    11.7|     7.2| 2.3|   rain|\n",
      "|2012-01-04|         20.3|    12.2|     5.6| 4.7|   rain|\n",
      "|2012-01-05|          1.3|     8.9|     2.8| 6.1|   rain|\n",
      "|2012-01-06|          2.5|     4.4|     2.2| 2.2|   rain|\n",
      "|2012-01-07|          0.0|     7.2|     2.8| 2.3|   rain|\n",
      "|2012-01-08|          0.0|    10.0|     2.8| 2.0|    sun|\n",
      "|2012-01-09|          4.3|     9.4|     5.0| 3.4|   rain|\n",
      "|2012-01-10|          1.0|     6.1|     0.6| 3.4|   rain|\n",
      "|2012-01-11|          0.0|     6.1|    -1.1| 5.1|    sun|\n",
      "|2012-01-12|          0.0|     6.1|    -1.7| 1.9|    sun|\n",
      "|2012-01-13|          0.0|     5.0|    -2.8| 1.3|    sun|\n",
      "|2012-01-14|          4.1|     4.4|     0.6| 5.3|   snow|\n",
      "|2012-01-15|          5.3|     1.1|    -3.3| 3.2|   snow|\n",
      "|2012-01-16|          2.5|     1.7|    -2.8| 5.0|   snow|\n",
      "|2012-01-17|          8.1|     3.3|     0.0| 5.6|   snow|\n",
      "|2012-01-18|         19.8|     0.0|    -2.8| 5.0|   snow|\n",
      "|2012-01-19|         15.2|    -1.1|    -2.8| 1.6|   snow|\n",
      "|2012-01-20|         13.5|     7.2|    -1.1| 2.3|   snow|\n",
      "|2012-01-21|          3.0|     8.3|     3.3| 8.2|   rain|\n",
      "|2012-01-22|          6.1|     6.7|     2.2| 4.8|   rain|\n",
      "|2012-01-23|          0.0|     8.3|     1.1| 3.6|   rain|\n",
      "|2012-01-24|          8.6|    10.0|     2.2| 5.1|   rain|\n",
      "|2012-01-25|          8.1|     8.9|     4.4| 5.4|   rain|\n",
      "|2012-01-26|          4.8|     8.9|     1.1| 4.8|   rain|\n",
      "|2012-01-27|          0.0|     6.7|    -2.2| 1.4|drizzle|\n",
      "|2012-01-28|          0.0|     6.7|     0.6| 2.2|   rain|\n",
      "|2012-01-29|         27.7|     9.4|     3.9| 4.5|   rain|\n",
      "|2012-01-30|          3.6|     8.3|     6.1| 5.1|   rain|\n",
      "|2012-01-31|          1.8|     9.4|     6.1| 3.9|   rain|\n",
      "|2012-02-01|         13.5|     8.9|     3.3| 2.7|   rain|\n",
      "|2012-02-02|          0.0|     8.3|     1.7| 2.6|    sun|\n",
      "|2012-02-03|          0.0|    14.4|     2.2| 5.3|    sun|\n",
      "|2012-02-04|          0.0|    15.6|     5.0| 4.3|    sun|\n",
      "|2012-02-05|          0.0|    13.9|     1.7| 2.9|    sun|\n",
      "|2012-02-06|          0.0|    16.1|     1.7| 5.0|    sun|\n",
      "|2012-02-07|          0.3|    15.6|     7.8| 5.3|   rain|\n",
      "|2012-02-08|          2.8|    10.0|     5.0| 2.7|   rain|\n",
      "|2012-02-09|          2.5|    11.1|     7.8| 2.4|   rain|\n",
      "|2012-02-10|          2.5|    12.8|     6.7| 3.0|   rain|\n",
      "|2012-02-11|          0.8|     8.9|     5.6| 3.4|   rain|\n",
      "|2012-02-12|          1.0|     8.3|     5.0| 1.3|   rain|\n",
      "|2012-02-13|         11.4|     7.2|     4.4| 1.4|   rain|\n",
      "|2012-02-14|          2.5|     6.7|     1.1| 3.1|   rain|\n",
      "|2012-02-15|          0.0|     7.2|     0.6| 1.8|drizzle|\n",
      "|2012-02-16|          1.8|     7.2|     3.3| 2.1|   rain|\n",
      "|2012-02-17|         17.3|    10.0|     4.4| 3.4|   rain|\n",
      "|2012-02-18|          6.4|     6.7|     3.9| 8.1|   rain|\n",
      "|2012-02-19|          0.0|     6.7|     2.2| 4.7|    sun|\n",
      "|2012-02-20|          3.0|     7.8|     1.7| 2.9|   rain|\n",
      "|2012-02-21|          0.8|    10.0|     7.8| 7.5|   rain|\n",
      "|2012-02-22|          8.6|    10.0|     2.8| 5.9|   rain|\n",
      "|2012-02-23|          0.0|     8.3|     2.8| 3.9|    sun|\n",
      "|2012-02-24|         11.4|     6.7|     4.4| 3.5|   rain|\n",
      "|2012-02-25|          0.0|     7.2|     2.8| 6.4|   rain|\n",
      "|2012-02-26|          1.3|     5.0|    -1.1| 3.4|   snow|\n",
      "|2012-02-27|          0.0|     6.7|    -2.2| 3.0|    sun|\n",
      "|2012-02-28|          3.6|     6.7|    -0.6| 4.2|   snow|\n",
      "|2012-02-29|          0.8|     5.0|     1.1| 7.0|   snow|\n",
      "|2012-03-01|          0.0|     6.1|     1.1| 3.1|    sun|\n",
      "|2012-03-02|          2.0|     6.7|     3.9| 5.1|   rain|\n",
      "|2012-03-03|          0.0|    12.2|     6.7| 7.0|    sun|\n",
      "|2012-03-04|          0.0|    10.6|     6.7| 5.6|   rain|\n",
      "|2012-03-05|          6.9|     7.8|     1.1| 6.2|   rain|\n",
      "|2012-03-06|          0.5|     6.7|     0.0| 2.7|   snow|\n",
      "|2012-03-07|          0.0|     8.9|    -1.7| 2.7|    sun|\n",
      "|2012-03-08|          0.0|    15.6|     0.6| 2.5|    sun|\n",
      "|2012-03-09|          3.6|     9.4|     5.0| 2.8|   rain|\n",
      "|2012-03-10|         10.4|     7.2|     6.1| 3.4|   rain|\n",
      "|2012-03-11|         13.7|     6.7|     2.8| 5.8|   rain|\n",
      "|2012-03-12|         19.3|     8.3|     0.6| 6.2|   snow|\n",
      "|2012-03-13|          9.4|     5.6|     0.6| 5.3|   snow|\n",
      "|2012-03-14|          8.6|     7.8|     1.1| 4.7|   rain|\n",
      "|2012-03-15|         23.9|    11.1|     5.6| 5.8|   snow|\n",
      "|2012-03-16|          8.4|     8.9|     3.9| 5.1|   rain|\n",
      "|2012-03-17|          9.4|    10.0|     0.6| 3.8|   snow|\n",
      "|2012-03-18|          3.6|     5.0|    -0.6| 2.7|   rain|\n",
      "|2012-03-19|          2.0|     7.2|    -1.1| 3.0|   rain|\n",
      "|2012-03-20|          3.6|     7.8|     2.2| 6.4|   rain|\n",
      "|2012-03-21|          1.3|     8.9|     1.1| 2.5|   rain|\n",
      "|2012-03-22|          4.1|    10.0|     1.7| 2.1|   rain|\n",
      "|2012-03-23|          0.0|    12.2|     0.6| 2.8|    sun|\n",
      "|2012-03-24|          0.0|    15.0|     3.3| 5.2|    sun|\n",
      "|2012-03-25|          0.0|    13.3|     2.2| 2.7|   rain|\n",
      "|2012-03-26|          0.0|    12.8|     6.1| 4.3|drizzle|\n",
      "|2012-03-27|          4.8|    14.4|     6.7| 3.8|   rain|\n",
      "|2012-03-28|          1.3|    10.6|     7.2| 5.9|   rain|\n",
      "|2012-03-29|         27.4|    10.0|     6.1| 4.4|   rain|\n",
      "|2012-03-30|          5.6|     9.4|     5.0| 4.7|   rain|\n",
      "|2012-03-31|         13.2|    10.0|     2.8| 3.4|   rain|\n",
      "|2012-04-01|          1.5|     8.9|     4.4| 6.8|   rain|\n",
      "|2012-04-02|          0.0|    16.7|     4.4| 3.1|    sun|\n",
      "|2012-04-03|          1.5|    11.7|     3.3| 3.1|   rain|\n",
      "|2012-04-04|          0.0|    10.6|     2.8| 2.1|    sun|\n",
      "|2012-04-05|          4.6|     9.4|     2.8| 1.8|   snow|\n",
      "|2012-04-06|          0.3|    11.1|     3.3| 2.6|   rain|\n",
      "|2012-04-07|          0.0|    16.1|     1.7| 4.3|    sun|\n",
      "|2012-04-08|          0.0|    21.1|     7.2| 4.1|    sun|\n",
      "|2012-04-09|          0.0|    20.0|     6.1| 2.1|    sun|\n",
      "+----------+-------------+--------+--------+----+-------+\n",
      "only showing top 100 rows\n",
      "\n"
     ]
    }
   ],
   "source": [
    "weather.show(100)"
   ]
  },
  {
   "cell_type": "code",
   "execution_count": null,
   "id": "bf662ce9",
   "metadata": {},
   "outputs": [],
   "source": []
  }
 ],
 "metadata": {
  "kernelspec": {
   "display_name": "Python 3 (ipykernel)",
   "language": "python",
   "name": "python3"
  },
  "language_info": {
   "codemirror_mode": {
    "name": "ipython",
    "version": 3
   },
   "file_extension": ".py",
   "mimetype": "text/x-python",
   "name": "python",
   "nbconvert_exporter": "python",
   "pygments_lexer": "ipython3",
   "version": "3.9.12"
  }
 },
 "nbformat": 4,
 "nbformat_minor": 5
}
