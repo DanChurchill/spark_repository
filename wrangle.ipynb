{
 "cells": [
  {
   "cell_type": "code",
   "execution_count": 135,
   "id": "3afdbee4",
   "metadata": {},
   "outputs": [],
   "source": [
    "import pandas as pd\n",
    "\n",
    "from pyspark.sql import SparkSession\n",
    "from pyspark.sql.functions import * \n",
    "from pyspark.sql.functions import concat, sum, avg, min, max, count, mean\n",
    "from pyspark.sql.functions import asc, desc\n",
    "\n",
    "import env"
   ]
  },
  {
   "cell_type": "code",
   "execution_count": 2,
   "id": "8bf79385",
   "metadata": {},
   "outputs": [
    {
     "name": "stdout",
     "output_type": "stream",
     "text": [
      "22/10/22 13:09:23 WARN Utils: Your hostname, daniels-MacBook-Pro.local resolves to a loopback address: 127.0.0.1; using 192.168.0.185 instead (on interface en0)\n",
      "22/10/22 13:09:23 WARN Utils: Set SPARK_LOCAL_IP if you need to bind to another address\n"
     ]
    },
    {
     "name": "stderr",
     "output_type": "stream",
     "text": [
      "Setting default log level to \"WARN\".\n",
      "To adjust logging level use sc.setLogLevel(newLevel). For SparkR, use setLogLevel(newLevel).\n"
     ]
    },
    {
     "name": "stdout",
     "output_type": "stream",
     "text": [
      "22/10/22 13:09:24 WARN NativeCodeLoader: Unable to load native-hadoop library for your platform... using builtin-java classes where applicable\n"
     ]
    }
   ],
   "source": [
    "spark = SparkSession.builder.getOrCreate()\n"
   ]
  },
  {
   "cell_type": "markdown",
   "id": "12d4977f",
   "metadata": {},
   "source": [
    "# Read the case, department, and source data into their own spark dataframes.|"
   ]
  },
  {
   "cell_type": "code",
   "execution_count": 5,
   "id": "57f6dfab",
   "metadata": {},
   "outputs": [],
   "source": [
    "#sql query\n",
    "url = env.get_url(env.user, env.host, env.password, \"311_data\")\n",
    "query1 = 'select * from cases'\n",
    "query2 = 'select * from dept'\n",
    "query3 = 'select * from source'"
   ]
  },
  {
   "cell_type": "code",
   "execution_count": 6,
   "id": "b68aeb54",
   "metadata": {},
   "outputs": [],
   "source": [
    "pandas_cases = pd.read_sql(query1, url)\n",
    "pandas_dept = pd.read_sql(query2, url)\n",
    "pandas_source = pd.read_sql(query3, url)"
   ]
  },
  {
   "cell_type": "code",
   "execution_count": 7,
   "id": "92271896",
   "metadata": {},
   "outputs": [],
   "source": [
    "cases = spark.createDataFrame(pandas_cases)\n",
    "dept = spark.createDataFrame(pandas_dept)\n",
    "source = spark.createDataFrame(pandas_source)\n"
   ]
  },
  {
   "cell_type": "markdown",
   "id": "b5f47406",
   "metadata": {},
   "source": [
    "# Write the code necessary to store the source data in both csv and json format, store these as sources_csv and sources_json\n"
   ]
  },
  {
   "cell_type": "code",
   "execution_count": 14,
   "id": "5d24f47a",
   "metadata": {},
   "outputs": [
    {
     "name": "stderr",
     "output_type": "stream",
     "text": [
      "\r",
      "[Stage 6:>                                                        (0 + 10) / 10]\r",
      "\r",
      "                                                                                \r"
     ]
    }
   ],
   "source": [
    "(\n",
    "    source.write.format('csv')\n",
    "    .mode('overwrite')\n",
    "    .option('header', 'True')\n",
    "    .save('data/sources_csv')\n",
    ")"
   ]
  },
  {
   "cell_type": "code",
   "execution_count": 15,
   "id": "a63d405e",
   "metadata": {},
   "outputs": [],
   "source": [
    "source.write.json('data/sources_json', mode='overwrite')"
   ]
  },
  {
   "cell_type": "markdown",
   "id": "863efe23",
   "metadata": {},
   "source": [
    "# Inspect the data in your dataframes. Are the data types appropriate? Write the code necessary to cast the values to the appropriate types."
   ]
  },
  {
   "cell_type": "markdown",
   "id": "3cc4e55f",
   "metadata": {},
   "source": [
    "### Start with cases dataframe"
   ]
  },
  {
   "cell_type": "code",
   "execution_count": 18,
   "id": "dc9ed23a",
   "metadata": {},
   "outputs": [
    {
     "data": {
      "text/plain": [
       "[('case_id', 'bigint'),\n",
       " ('case_opened_date', 'string'),\n",
       " ('case_closed_date', 'string'),\n",
       " ('SLA_due_date', 'string'),\n",
       " ('case_late', 'string'),\n",
       " ('num_days_late', 'double'),\n",
       " ('case_closed', 'string'),\n",
       " ('dept_division', 'string'),\n",
       " ('service_request_type', 'string'),\n",
       " ('SLA_days', 'double'),\n",
       " ('case_status', 'string'),\n",
       " ('source_id', 'string'),\n",
       " ('request_address', 'string'),\n",
       " ('council_district', 'bigint')]"
      ]
     },
     "execution_count": 18,
     "metadata": {},
     "output_type": "execute_result"
    }
   ],
   "source": [
    "cases.dtypes"
   ]
  },
  {
   "cell_type": "code",
   "execution_count": 39,
   "id": "7bf38d44",
   "metadata": {},
   "outputs": [],
   "source": [
    "# case_opened_date should be datetime\n",
    "# case closed_date should be datetime\n",
    "# SLA_due_date should be datetime\n",
    "# case_closed should be boolean\n",
    "# case_late should be boolean"
   ]
  },
  {
   "cell_type": "markdown",
   "id": "e285f4da",
   "metadata": {},
   "source": [
    "### Convert dates"
   ]
  },
  {
   "cell_type": "code",
   "execution_count": 25,
   "id": "a94597d7",
   "metadata": {},
   "outputs": [],
   "source": [
    "date_format = 'M/d/yy H:m'"
   ]
  },
  {
   "cell_type": "code",
   "execution_count": 29,
   "id": "dffd9a9f",
   "metadata": {},
   "outputs": [],
   "source": [
    "cases = cases.withColumn('case_opened_date', to_timestamp('case_opened_date', date_format))\n",
    "cases = cases.withColumn('case_closed_date', to_timestamp('case_closed_date', date_format))\n",
    "cases = cases.withColumn('SLA_due_date', to_timestamp('SLA_due_date', date_format))"
   ]
  },
  {
   "cell_type": "markdown",
   "id": "c5152f13",
   "metadata": {},
   "source": [
    "### Convert bools"
   ]
  },
  {
   "cell_type": "code",
   "execution_count": 36,
   "id": "6f2ee0d9",
   "metadata": {},
   "outputs": [],
   "source": [
    "cases = cases.withColumn('case_late', expr(\"case_late == 'YES'\"))\n",
    "cases = cases.withColumn('case_closed', expr(\"case_closed == 'YES'\"))"
   ]
  },
  {
   "cell_type": "code",
   "execution_count": 38,
   "id": "0e2d1829",
   "metadata": {},
   "outputs": [
    {
     "data": {
      "text/plain": [
       "[('case_id', 'bigint'),\n",
       " ('case_opened_date', 'timestamp'),\n",
       " ('case_closed_date', 'timestamp'),\n",
       " ('SLA_due_date', 'timestamp'),\n",
       " ('case_late', 'boolean'),\n",
       " ('num_days_late', 'double'),\n",
       " ('case_closed', 'boolean'),\n",
       " ('dept_division', 'string'),\n",
       " ('service_request_type', 'string'),\n",
       " ('SLA_days', 'double'),\n",
       " ('case_status', 'string'),\n",
       " ('source_id', 'string'),\n",
       " ('request_address', 'string'),\n",
       " ('council_district', 'bigint')]"
      ]
     },
     "execution_count": 38,
     "metadata": {},
     "output_type": "execute_result"
    }
   ],
   "source": [
    "cases.dtypes"
   ]
  },
  {
   "cell_type": "markdown",
   "id": "60f5115f",
   "metadata": {},
   "source": [
    "### Next, Departments"
   ]
  },
  {
   "cell_type": "code",
   "execution_count": 40,
   "id": "0b339b22",
   "metadata": {},
   "outputs": [
    {
     "data": {
      "text/plain": [
       "[('dept_division', 'string'),\n",
       " ('dept_name', 'string'),\n",
       " ('standardized_dept_name', 'string'),\n",
       " ('dept_subject_to_SLA', 'string')]"
      ]
     },
     "execution_count": 40,
     "metadata": {},
     "output_type": "execute_result"
    }
   ],
   "source": [
    "dept.dtypes"
   ]
  },
  {
   "cell_type": "code",
   "execution_count": 41,
   "id": "76e4a457",
   "metadata": {},
   "outputs": [
    {
     "name": "stdout",
     "output_type": "stream",
     "text": [
      "-RECORD 0----------------------------------\n",
      " dept_division          | 311 Call Center  \n",
      " dept_name              | Customer Service \n",
      " standardized_dept_name | Customer Service \n",
      " dept_subject_to_SLA    | YES              \n",
      "only showing top 1 row\n",
      "\n"
     ]
    }
   ],
   "source": [
    "dept.show(1, vertical = True)"
   ]
  },
  {
   "cell_type": "code",
   "execution_count": 42,
   "id": "b9a34541",
   "metadata": {},
   "outputs": [],
   "source": [
    "# convert dept_subject_to_SLA to boolean"
   ]
  },
  {
   "cell_type": "code",
   "execution_count": 43,
   "id": "541b1d8f",
   "metadata": {},
   "outputs": [],
   "source": [
    "dept = dept.withColumn('dept_subject_to_SLA', expr(\"dept_subject_to_SLA == 'YES'\"))\n"
   ]
  },
  {
   "cell_type": "code",
   "execution_count": 44,
   "id": "e34ad817",
   "metadata": {},
   "outputs": [
    {
     "name": "stdout",
     "output_type": "stream",
     "text": [
      "-RECORD 0----------------------------------\n",
      " dept_division          | 311 Call Center  \n",
      " dept_name              | Customer Service \n",
      " standardized_dept_name | Customer Service \n",
      " dept_subject_to_SLA    | true             \n",
      "only showing top 1 row\n",
      "\n"
     ]
    }
   ],
   "source": [
    "dept.show(1, vertical = True)"
   ]
  },
  {
   "cell_type": "markdown",
   "id": "20d8a786",
   "metadata": {},
   "source": [
    "### Finally, source"
   ]
  },
  {
   "cell_type": "code",
   "execution_count": 45,
   "id": "388686a3",
   "metadata": {},
   "outputs": [
    {
     "data": {
      "text/plain": [
       "[('index', 'bigint'), ('source_id', 'string'), ('source_username', 'string')]"
      ]
     },
     "execution_count": 45,
     "metadata": {},
     "output_type": "execute_result"
    }
   ],
   "source": [
    "source.dtypes"
   ]
  },
  {
   "cell_type": "code",
   "execution_count": 170,
   "id": "3ed56eae",
   "metadata": {},
   "outputs": [
    {
     "name": "stdout",
     "output_type": "stream",
     "text": [
      "-RECORD 0---------------------------\n",
      " index           | 0                \n",
      " source_id       | 0                \n",
      " source_username | Merlene Blodgett \n",
      "-RECORD 1---------------------------\n",
      " index           | 1                \n",
      " source_id       | 0                \n",
      " source_username | Carmen Cura      \n",
      "-RECORD 2---------------------------\n",
      " index           | 2                \n",
      " source_id       | 0                \n",
      " source_username | Richard Sanchez  \n",
      "only showing top 3 rows\n",
      "\n"
     ]
    }
   ],
   "source": [
    "source.show(3, vertical=True)"
   ]
  },
  {
   "cell_type": "code",
   "execution_count": 51,
   "id": "baf3675a",
   "metadata": {},
   "outputs": [],
   "source": [
    "# convert source_id to integer"
   ]
  },
  {
   "cell_type": "code",
   "execution_count": 172,
   "id": "8005ab84",
   "metadata": {},
   "outputs": [],
   "source": [
    "source = source.withColumn(\"source_id\",source.source_id.cast('integer'))\n"
   ]
  },
  {
   "cell_type": "code",
   "execution_count": 173,
   "id": "0742ec03",
   "metadata": {},
   "outputs": [
    {
     "data": {
      "text/plain": [
       "[('index', 'bigint'), ('source_id', 'int'), ('source_username', 'string')]"
      ]
     },
     "execution_count": 173,
     "metadata": {},
     "output_type": "execute_result"
    }
   ],
   "source": [
    "source.dtypes"
   ]
  },
  {
   "cell_type": "markdown",
   "id": "06852f56",
   "metadata": {},
   "source": [
    "# How old is the latest (in terms of days past SLA) currently open issue? "
   ]
  },
  {
   "cell_type": "code",
   "execution_count": 144,
   "id": "b81568cb",
   "metadata": {},
   "outputs": [
    {
     "name": "stdout",
     "output_type": "stream",
     "text": [
      "22/10/22 15:22:56 WARN TaskSetManager: Stage 80 contains a task of very large size (15174 KiB). The maximum recommended task size is 1000 KiB.\n"
     ]
    },
    {
     "name": "stderr",
     "output_type": "stream",
     "text": [
      "[Stage 80:===================================================>     (9 + 1) / 10]\r"
     ]
    },
    {
     "name": "stdout",
     "output_type": "stream",
     "text": [
      "+---------------------+\n",
      "|max(case_opened_date)|\n",
      "+---------------------+\n",
      "|  2018-08-08 10:38:00|\n",
      "+---------------------+\n",
      "\n"
     ]
    },
    {
     "name": "stderr",
     "output_type": "stream",
     "text": [
      "\r",
      "                                                                                \r"
     ]
    }
   ],
   "source": [
    "cases.select(max(cases.case_opened_date)).show()"
   ]
  },
  {
   "cell_type": "code",
   "execution_count": 145,
   "id": "e6fc054c",
   "metadata": {},
   "outputs": [],
   "source": [
    "today = to_date(lit(\"2018-08-08\"))"
   ]
  },
  {
   "cell_type": "code",
   "execution_count": 149,
   "id": "9b4d2d24",
   "metadata": {},
   "outputs": [
    {
     "name": "stdout",
     "output_type": "stream",
     "text": [
      "22/10/22 15:26:22 WARN TaskSetManager: Stage 86 contains a task of very large size (15174 KiB). The maximum recommended task size is 1000 KiB.\n"
     ]
    },
    {
     "name": "stderr",
     "output_type": "stream",
     "text": [
      "                                                                                \r"
     ]
    },
    {
     "name": "stdout",
     "output_type": "stream",
     "text": [
      "+----------+-------------------+---------+\n",
      "|   case_id|       SLA_due_date|days_late|\n",
      "+----------+-------------------+---------+\n",
      "|1013225646|2017-01-17 08:30:00|      568|\n",
      "|1013225651|2017-01-17 08:30:00|      568|\n",
      "|1013226813|2017-01-17 11:26:00|      568|\n",
      "|1013229328|2017-01-18 10:01:00|      567|\n",
      "|1013236238|2017-01-20 14:39:00|      565|\n",
      "+----------+-------------------+---------+\n",
      "only showing top 5 rows\n",
      "\n"
     ]
    }
   ],
   "source": [
    "(\n",
    "    cases.filter(cases.case_status == 'Open')\n",
    "    .select('case_id', 'SLA_due_date', datediff(today, 'SLA_due_date').alias('days_late'))\n",
    "    .sort(desc('days_late'))\n",
    "    .show(5) \n",
    ")"
   ]
  },
  {
   "cell_type": "markdown",
   "id": "1d6f1e9b",
   "metadata": {},
   "source": [
    "# How long has the oldest (in terms of days since opened) currently opened issue been open?\n"
   ]
  },
  {
   "cell_type": "code",
   "execution_count": 148,
   "id": "52b070ec",
   "metadata": {},
   "outputs": [
    {
     "name": "stdout",
     "output_type": "stream",
     "text": [
      "22/10/22 15:26:06 WARN TaskSetManager: Stage 85 contains a task of very large size (15174 KiB). The maximum recommended task size is 1000 KiB.\n"
     ]
    },
    {
     "name": "stderr",
     "output_type": "stream",
     "text": [
      "[Stage 85:=============================================>           (8 + 2) / 10]\r"
     ]
    },
    {
     "name": "stdout",
     "output_type": "stream",
     "text": [
      "+----------+-------------------+---------+\n",
      "|   case_id|   case_opened_date|days_open|\n",
      "+----------+-------------------+---------+\n",
      "|1013225651|2017-01-01 13:57:00|      584|\n",
      "|1013225646|2017-01-01 13:48:00|      584|\n",
      "|1013226813|2017-01-02 11:26:00|      583|\n",
      "|1013229328|2017-01-03 10:01:00|      582|\n",
      "|1013232331|2017-01-04 10:16:00|      581|\n",
      "+----------+-------------------+---------+\n",
      "only showing top 5 rows\n",
      "\n"
     ]
    },
    {
     "name": "stderr",
     "output_type": "stream",
     "text": [
      "\r",
      "[Stage 85:===================================================>     (9 + 1) / 10]\r",
      "\r",
      "                                                                                \r"
     ]
    }
   ],
   "source": [
    "(\n",
    "    cases.filter(cases.case_status == 'Open')\n",
    "    .select('case_id', 'case_opened_date', datediff(today, 'case_opened_date').alias('days_open'))\n",
    "    .sort(desc('days_open'))\n",
    "    .show(5) \n",
    ")"
   ]
  },
  {
   "cell_type": "markdown",
   "id": "94e7679a",
   "metadata": {},
   "source": [
    "# How many Stray Animal cases are there?\n"
   ]
  },
  {
   "cell_type": "code",
   "execution_count": 160,
   "id": "2a32281d",
   "metadata": {},
   "outputs": [
    {
     "name": "stdout",
     "output_type": "stream",
     "text": [
      "22/10/22 15:35:51 WARN TaskSetManager: Stage 109 contains a task of very large size (15174 KiB). The maximum recommended task size is 1000 KiB.\n"
     ]
    },
    {
     "name": "stderr",
     "output_type": "stream",
     "text": [
      "                                                                                \r"
     ]
    },
    {
     "data": {
      "text/plain": [
       "26760"
      ]
     },
     "execution_count": 160,
     "metadata": {},
     "output_type": "execute_result"
    }
   ],
   "source": [
    "cases.filter(cases.service_request_type == 'Stray Animal').count()"
   ]
  },
  {
   "cell_type": "markdown",
   "id": "4ca9407b",
   "metadata": {},
   "source": [
    "# How many service requests that are assigned to the Field Operations department (dept_division) are not classified as \"Officer Standby\" request type (service_request_type)?"
   ]
  },
  {
   "cell_type": "code",
   "execution_count": 167,
   "id": "75450569",
   "metadata": {},
   "outputs": [
    {
     "name": "stdout",
     "output_type": "stream",
     "text": [
      "22/10/22 15:40:45 WARN TaskSetManager: Stage 116 contains a task of very large size (15174 KiB). The maximum recommended task size is 1000 KiB.\n"
     ]
    },
    {
     "name": "stderr",
     "output_type": "stream",
     "text": [
      "                                                                                \r"
     ]
    },
    {
     "data": {
      "text/plain": [
       "113902"
      ]
     },
     "execution_count": 167,
     "metadata": {},
     "output_type": "execute_result"
    }
   ],
   "source": [
    "(\n",
    "cases.filter((cases.dept_division == 'Field Operations') & (cases.service_request_type != 'Officer Standby'))\n",
    "    .count()\n",
    "    \n",
    ")"
   ]
  },
  {
   "cell_type": "markdown",
   "id": "9d2fd0d4",
   "metadata": {},
   "source": [
    "# Convert the council_district column to a string column.\n",
    "\n"
   ]
  },
  {
   "cell_type": "code",
   "execution_count": 176,
   "id": "f1a40661",
   "metadata": {},
   "outputs": [],
   "source": [
    "cases = cases.withColumn(\"council_district\",cases.council_district.cast('string'))\n"
   ]
  },
  {
   "cell_type": "code",
   "execution_count": 179,
   "id": "bcd6cd28",
   "metadata": {},
   "outputs": [
    {
     "data": {
      "text/plain": [
       "[('case_id', 'bigint'),\n",
       " ('case_opened_date', 'timestamp'),\n",
       " ('case_closed_date', 'timestamp'),\n",
       " ('SLA_due_date', 'timestamp'),\n",
       " ('case_late', 'boolean'),\n",
       " ('num_days_late', 'double'),\n",
       " ('case_closed', 'boolean'),\n",
       " ('dept_division', 'string'),\n",
       " ('service_request_type', 'string'),\n",
       " ('SLA_days', 'double'),\n",
       " ('case_status', 'string'),\n",
       " ('source_id', 'string'),\n",
       " ('request_address', 'string'),\n",
       " ('council_district', 'string')]"
      ]
     },
     "execution_count": 179,
     "metadata": {},
     "output_type": "execute_result"
    }
   ],
   "source": [
    "cases.dtypes"
   ]
  },
  {
   "cell_type": "markdown",
   "id": "ae9285a8",
   "metadata": {},
   "source": [
    "# Extract the year from the case_closed_date column.\n"
   ]
  },
  {
   "cell_type": "code",
   "execution_count": 184,
   "id": "fa6f081c",
   "metadata": {},
   "outputs": [
    {
     "name": "stdout",
     "output_type": "stream",
     "text": [
      "22/10/22 15:52:51 WARN TaskSetManager: Stage 123 contains a task of very large size (15174 KiB). The maximum recommended task size is 1000 KiB.\n"
     ]
    },
    {
     "name": "stderr",
     "output_type": "stream",
     "text": [
      "\r",
      "[Stage 123:>                                                        (0 + 1) / 1]\r"
     ]
    },
    {
     "name": "stdout",
     "output_type": "stream",
     "text": [
      "22/10/22 15:52:55 WARN PythonRunner: Detected deadlock while completing task 0.0 in stage 123 (TID 404): Attempting to kill Python Worker\n",
      "+-------------------+----+\n",
      "|   case_closed_date|year|\n",
      "+-------------------+----+\n",
      "|2018-01-01 12:29:00|2018|\n",
      "|2018-01-03 08:11:00|2018|\n",
      "|2018-01-02 07:57:00|2018|\n",
      "|2018-01-02 08:13:00|2018|\n",
      "|2018-01-01 13:29:00|2018|\n",
      "|2018-01-01 14:38:00|2018|\n",
      "|2018-01-02 15:32:00|2018|\n",
      "|2018-01-02 15:32:00|2018|\n",
      "|2018-01-02 15:32:00|2018|\n",
      "|2018-01-02 15:32:00|2018|\n",
      "|2018-01-02 15:32:00|2018|\n",
      "|2018-01-02 15:32:00|2018|\n",
      "|2018-01-02 15:33:00|2018|\n",
      "|2018-01-02 15:32:00|2018|\n",
      "|2018-01-02 15:33:00|2018|\n",
      "|2018-01-02 15:33:00|2018|\n",
      "|2018-01-02 15:33:00|2018|\n",
      "|2018-01-02 15:33:00|2018|\n",
      "|2018-01-02 15:33:00|2018|\n",
      "|2018-01-02 15:33:00|2018|\n",
      "+-------------------+----+\n",
      "only showing top 20 rows\n",
      "\n"
     ]
    },
    {
     "name": "stderr",
     "output_type": "stream",
     "text": [
      "\r",
      "                                                                                \r"
     ]
    }
   ],
   "source": [
    "cases.select('case_closed_date', (regexp_extract('case_closed_date', r'\\d+', 0).alias('year'))).show()"
   ]
  },
  {
   "cell_type": "markdown",
   "id": "22175073",
   "metadata": {},
   "source": [
    "# Convert num_days_late from days to hours in new columns num_hours_late.\n",
    "\n"
   ]
  },
  {
   "cell_type": "code",
   "execution_count": 188,
   "id": "789b64ed",
   "metadata": {},
   "outputs": [
    {
     "name": "stdout",
     "output_type": "stream",
     "text": [
      "22/10/22 16:01:26 WARN TaskSetManager: Stage 126 contains a task of very large size (15174 KiB). The maximum recommended task size is 1000 KiB.\n"
     ]
    },
    {
     "name": "stderr",
     "output_type": "stream",
     "text": [
      "\r",
      "[Stage 126:>                                                        (0 + 1) / 1]\r"
     ]
    },
    {
     "name": "stdout",
     "output_type": "stream",
     "text": [
      "22/10/22 16:01:30 WARN PythonRunner: Detected deadlock while completing task 0.0 in stage 126 (TID 407): Attempting to kill Python Worker\n",
      "+-------------+-------------------+\n",
      "|num_days_late|     num_hours_late|\n",
      "+-------------+-------------------+\n",
      "| -998.5087616|-23964.210278399998|\n",
      "| -2.012604167|      -48.302500008|\n",
      "| -3.022337963|      -72.536111112|\n",
      "| -15.01148148|      -360.27555552|\n",
      "|  0.372164352|        8.931944448|\n",
      "| -29.74398148| -713.8555555199999|\n",
      "+-------------+-------------------+\n",
      "only showing top 6 rows\n",
      "\n"
     ]
    },
    {
     "name": "stderr",
     "output_type": "stream",
     "text": [
      "\r",
      "                                                                                \r"
     ]
    }
   ],
   "source": [
    "(\n",
    "cases.withColumn('num_hours_late', expr('num_days_late * 24'))\n",
    "    .select('num_days_late', 'num_hours_late')\n",
    "    .show(6)                                                            \n",
    ")                                                                                                                                          "
   ]
  },
  {
   "cell_type": "markdown",
   "id": "0c532d8d",
   "metadata": {},
   "source": [
    "# Join the case data with the source and department data.\n",
    "\n"
   ]
  },
  {
   "cell_type": "code",
   "execution_count": 192,
   "id": "a8ddffa7",
   "metadata": {},
   "outputs": [],
   "source": [
    "#join tables\n",
    "cases = cases.join(dept,\n",
    "        'dept_division',\n",
    "        'left')"
   ]
  },
  {
   "cell_type": "code",
   "execution_count": 202,
   "id": "652ecf6b",
   "metadata": {
    "scrolled": false
   },
   "outputs": [],
   "source": [
    "cases = cases.join(source, 'source_id', 'left')"
   ]
  },
  {
   "cell_type": "code",
   "execution_count": 203,
   "id": "2bb432a5",
   "metadata": {},
   "outputs": [
    {
     "data": {
      "text/plain": [
       "['source_id',\n",
       " 'dept_division',\n",
       " 'case_id',\n",
       " 'case_opened_date',\n",
       " 'case_closed_date',\n",
       " 'SLA_due_date',\n",
       " 'case_late',\n",
       " 'num_days_late',\n",
       " 'case_closed',\n",
       " 'service_request_type',\n",
       " 'SLA_days',\n",
       " 'case_status',\n",
       " 'request_address',\n",
       " 'council_district',\n",
       " 'dept_name',\n",
       " 'standardized_dept_name',\n",
       " 'dept_subject_to_SLA',\n",
       " 'index',\n",
       " 'source_username']"
      ]
     },
     "execution_count": 203,
     "metadata": {},
     "output_type": "execute_result"
    }
   ],
   "source": [
    "cases.columns"
   ]
  },
  {
   "cell_type": "markdown",
   "id": "e50b78dc",
   "metadata": {},
   "source": [
    "# Are there any cases that do not have a request source?\n",
    "\n"
   ]
  },
  {
   "cell_type": "code",
   "execution_count": 208,
   "id": "0c0e65e4",
   "metadata": {},
   "outputs": [
    {
     "name": "stdout",
     "output_type": "stream",
     "text": [
      "22/10/22 16:21:35 WARN TaskSetManager: Stage 174 contains a task of very large size (15174 KiB). The maximum recommended task size is 1000 KiB.\n"
     ]
    },
    {
     "name": "stderr",
     "output_type": "stream",
     "text": [
      "                                                                                \r"
     ]
    },
    {
     "data": {
      "text/plain": [
       "0"
      ]
     },
     "execution_count": 208,
     "metadata": {},
     "output_type": "execute_result"
    }
   ],
   "source": [
    "cases.filter(\"source_id is NULL\").count()"
   ]
  },
  {
   "cell_type": "code",
   "execution_count": 211,
   "id": "ec98ba75",
   "metadata": {},
   "outputs": [
    {
     "name": "stdout",
     "output_type": "stream",
     "text": [
      "22/10/22 16:22:48 WARN TaskSetManager: Stage 182 contains a task of very large size (15174 KiB). The maximum recommended task size is 1000 KiB.\n"
     ]
    },
    {
     "name": "stderr",
     "output_type": "stream",
     "text": [
      "                                                                                \r"
     ]
    },
    {
     "name": "stdout",
     "output_type": "stream",
     "text": [
      "+--------------+\n",
      "|min(source_id)|\n",
      "+--------------+\n",
      "|        100137|\n",
      "+--------------+\n",
      "\n"
     ]
    }
   ],
   "source": [
    "cases.select(min(cases.source_id)).show()"
   ]
  },
  {
   "cell_type": "markdown",
   "id": "932067fd",
   "metadata": {},
   "source": [
    "# What are the top 10 service request types in terms of number of requests?\n",
    "\n"
   ]
  },
  {
   "cell_type": "code",
   "execution_count": 217,
   "id": "0340b8b6",
   "metadata": {},
   "outputs": [
    {
     "name": "stdout",
     "output_type": "stream",
     "text": [
      "22/10/22 16:27:53 WARN TaskSetManager: Stage 230 contains a task of very large size (15174 KiB). The maximum recommended task size is 1000 KiB.\n"
     ]
    },
    {
     "name": "stderr",
     "output_type": "stream",
     "text": [
      "                                                                                \r"
     ]
    },
    {
     "name": "stdout",
     "output_type": "stream",
     "text": [
      "+--------------------------------+-----+\n",
      "|service_request_type            |count|\n",
      "+--------------------------------+-----+\n",
      "|No Pickup                       |86855|\n",
      "|Overgrown Yard/Trash            |65895|\n",
      "|Bandit Signs                    |32910|\n",
      "|Damaged Cart                    |30338|\n",
      "|Front Or Side Yard Parking      |28794|\n",
      "|Stray Animal                    |26760|\n",
      "|Aggressive Animal(Non-Critical) |24882|\n",
      "|Cart Exchange Request           |22024|\n",
      "|Junk Vehicle On Private Property|21473|\n",
      "|Pot Hole Repair                 |20616|\n",
      "+--------------------------------+-----+\n",
      "only showing top 10 rows\n",
      "\n"
     ]
    }
   ],
   "source": [
    "(  \n",
    "    cases.groupBy('service_request_type')\n",
    "    .count().alias('count')\n",
    "    .sort(desc('count'))\n",
    "    .show(10, truncate=False)\n",
    ")"
   ]
  },
  {
   "cell_type": "markdown",
   "id": "27f2d4e3",
   "metadata": {},
   "source": [
    "# What are the top 10 service request types in terms of average days late?\n"
   ]
  },
  {
   "cell_type": "code",
   "execution_count": 233,
   "id": "a9294207",
   "metadata": {},
   "outputs": [
    {
     "name": "stdout",
     "output_type": "stream",
     "text": [
      "22/10/22 16:40:02 WARN TaskSetManager: Stage 353 contains a task of very large size (15174 KiB). The maximum recommended task size is 1000 KiB.\n"
     ]
    },
    {
     "name": "stderr",
     "output_type": "stream",
     "text": [
      "[Stage 353:==================================================>     (9 + 1) / 10]\r"
     ]
    },
    {
     "name": "stdout",
     "output_type": "stream",
     "text": [
      "+--------------------------------------+------------------+\n",
      "|service_request_type                  |avg_days_late     |\n",
      "+--------------------------------------+------------------+\n",
      "|Request for Research/Information      |NaN               |\n",
      "|CCO_Request for Research/Information_1|NaN               |\n",
      "|Zoning: Junk Yards                    |175.9563621042095 |\n",
      "|Labeling for Used Mattress            |162.43032902285717|\n",
      "|Record Keeping of Used Mattresses     |153.9972403942857 |\n",
      "|Signage Requied for Sale of Used Mattr|151.63868055333333|\n",
      "|Storage of Used Mattress              |142.112556415     |\n",
      "|Zoning: Recycle Yard                  |135.92851612479797|\n",
      "|Donation Container Enforcement        |131.75610506358709|\n",
      "|License Requied Used Mattress Sales   |128.79828704142858|\n",
      "+--------------------------------------+------------------+\n",
      "only showing top 10 rows\n",
      "\n"
     ]
    },
    {
     "name": "stderr",
     "output_type": "stream",
     "text": [
      "\r",
      "                                                                                \r"
     ]
    }
   ],
   "source": [
    "(  \n",
    "    cases.groupBy('service_request_type')\n",
    "    .agg(mean('num_days_late').alias('avg_days_late'))\n",
    "    .sort(desc('avg_days_late'))\n",
    "    .show(10, truncate=False)\n",
    ")"
   ]
  },
  {
   "cell_type": "markdown",
   "id": "dec4b857",
   "metadata": {},
   "source": [
    "# Does number of days late depend on department?\n"
   ]
  },
  {
   "cell_type": "code",
   "execution_count": 235,
   "id": "38f582a7",
   "metadata": {},
   "outputs": [
    {
     "name": "stdout",
     "output_type": "stream",
     "text": [
      "22/10/22 16:40:31 WARN TaskSetManager: Stage 365 contains a task of very large size (15174 KiB). The maximum recommended task size is 1000 KiB.\n"
     ]
    },
    {
     "name": "stderr",
     "output_type": "stream",
     "text": [
      "                                                                                \r"
     ]
    },
    {
     "name": "stdout",
     "output_type": "stream",
     "text": [
      "+-------------------------+-------------------+\n",
      "|dept_name                |avg_days_late      |\n",
      "+-------------------------+-------------------+\n",
      "|City Council             |NaN                |\n",
      "|null                     |135.92851612479797 |\n",
      "|Customer Service         |59.49019459221514  |\n",
      "|Development Services     |13.14805401407781  |\n",
      "|Solid Waste Management   |-2.1938644240225544|\n",
      "|Metro Health             |-4.904223205386015 |\n",
      "|Parks and Recreation     |-5.283345998745912 |\n",
      "|Trans & Cap Improvements |-20.50979350178539 |\n",
      "|Code Enforcement Services|-38.65265755027796 |\n",
      "|Animal Care Services     |-226.1654977071752 |\n",
      "+-------------------------+-------------------+\n",
      "\n"
     ]
    }
   ],
   "source": [
    "(  \n",
    "    cases.groupBy('dept_name')\n",
    "    .agg(mean('num_days_late').alias('avg_days_late'))\n",
    "    .sort(desc('avg_days_late'))\n",
    "    .show(10, truncate=False)\n",
    ")"
   ]
  },
  {
   "cell_type": "markdown",
   "id": "b7e27359",
   "metadata": {},
   "source": [
    "# How do number of days late depend on department and request type?\n"
   ]
  },
  {
   "cell_type": "code",
   "execution_count": 237,
   "id": "35dcab3a",
   "metadata": {},
   "outputs": [
    {
     "name": "stdout",
     "output_type": "stream",
     "text": [
      "22/10/22 16:41:37 WARN TaskSetManager: Stage 377 contains a task of very large size (15174 KiB). The maximum recommended task size is 1000 KiB.\n"
     ]
    },
    {
     "name": "stderr",
     "output_type": "stream",
     "text": [
      "                                                                                \r"
     ]
    },
    {
     "name": "stdout",
     "output_type": "stream",
     "text": [
      "+-------------------------+--------------------------------------+------------------+\n",
      "|dept_name                |service_request_type                  |avg_days_late     |\n",
      "+-------------------------+--------------------------------------+------------------+\n",
      "|City Council             |Request for Research/Information      |NaN               |\n",
      "|City Council             |CCO_Request for Research/Information_1|NaN               |\n",
      "|Code Enforcement Services|Zoning: Junk Yards                    |175.9563621042095 |\n",
      "|Code Enforcement Services|Labeling for Used Mattress            |162.43032902285717|\n",
      "|Code Enforcement Services|Record Keeping of Used Mattresses     |153.9972403942857 |\n",
      "|Code Enforcement Services|Signage Requied for Sale of Used Mattr|151.63868055333333|\n",
      "|Code Enforcement Services|Storage of Used Mattress              |142.112556415     |\n",
      "|null                     |Zoning: Recycle Yard                  |135.92851612479797|\n",
      "|Code Enforcement Services|Donation Container Enforcement        |131.75610506358709|\n",
      "|Code Enforcement Services|License Requied Used Mattress Sales   |128.79828704142858|\n",
      "+-------------------------+--------------------------------------+------------------+\n",
      "only showing top 10 rows\n",
      "\n"
     ]
    }
   ],
   "source": [
    "(  \n",
    "    cases.groupBy('dept_name', 'service_request_type')\n",
    "    .agg(mean('num_days_late').alias('avg_days_late'))\n",
    "    .sort(desc('avg_days_late'))\n",
    "    .show(10, truncate=False)\n",
    ")"
   ]
  },
  {
   "cell_type": "code",
   "execution_count": null,
   "id": "c0528d19",
   "metadata": {},
   "outputs": [],
   "source": []
  }
 ],
 "metadata": {
  "kernelspec": {
   "display_name": "Python 3 (ipykernel)",
   "language": "python",
   "name": "python3"
  },
  "language_info": {
   "codemirror_mode": {
    "name": "ipython",
    "version": 3
   },
   "file_extension": ".py",
   "mimetype": "text/x-python",
   "name": "python",
   "nbconvert_exporter": "python",
   "pygments_lexer": "ipython3",
   "version": "3.9.12"
  }
 },
 "nbformat": 4,
 "nbformat_minor": 5
}
